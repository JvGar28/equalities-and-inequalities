{
  "nbformat": 4,
  "nbformat_minor": 0,
  "metadata": {
    "colab": {
      "name": "Equations and Inequalities Worksheet - More Practcice.ipynb",
      "provenance": [],
      "collapsed_sections": []
    },
    "kernelspec": {
      "name": "python3",
      "display_name": "Python 3"
    }
  },
  "cells": [
    {
      "cell_type": "markdown",
      "metadata": {
        "id": "GjGwMPCqY3NB"
      },
      "source": [
        "# Equations and Inequalties"
      ]
    },
    {
      "cell_type": "markdown",
      "metadata": {
        "id": "ZWrNFbOsaxtZ"
      },
      "source": [
        "## Summary:\n",
        "This notebook will be used to help understand Equations and Inequalities concepts through a coding perspective. To run each cell block that contains python code, simply do **SHIFT + ENTER** and it will run the code block.\n",
        "\n",
        "- Learning how to use the [SymPy](https://docs.sympy.org/latest/index.html) library in Python to solve for equations through Python. \\\\"
      ]
    },
    {
      "cell_type": "markdown",
      "metadata": {
        "id": "FNcTnXMpdO7T"
      },
      "source": [
        "Note: Before we begin, we must import all the functions within the  SymPy library into our Python Notebook so that we can use them down below. Once we have imported the functions, we will create the variables that are used for the notebook as well as running the **init_printing()** function to allow us to have an interactive calculator-type notebook."
      ]
    },
    {
      "cell_type": "code",
      "metadata": {
        "id": "-ul3bobgdOd_"
      },
      "source": [
        "####Run this piece code first before continuing \n",
        "from sympy import *\n",
        "x, y, z = symbols('x y z')\n",
        "init_printing()\n",
        "\n",
        "\n",
        "def answer_check(right_ans, ans = {}):\n",
        "  \"\"\"\n",
        "  - Description: This function is used to check the answers on each of the problem  \n",
        "                 set questions down below.\n",
        "  - param right_ans: The correct answer either in data types dictionary or string\n",
        "  - param ans: The answer that Benny inputs into the functions\n",
        "  - Returns: One of Two Options- A string stating that the answer is correct\n",
        "             or a string stating that the answer is incorrect\n",
        "  \"\"\"\n",
        "  assert (type(right_ans) == dict) or (type(right_ans) == str), \"Please insert a dict or str\"\n",
        "\n",
        "  if ans == right_ans:\n",
        "    print(\"WooHoo!! You got the correct answer! :)\")\n",
        "  else:\n",
        "    print(\"Ooops, try that again, could be a small adding error.\")"
      ],
      "execution_count": 23,
      "outputs": []
    },
    {
      "cell_type": "markdown",
      "metadata": {
        "id": "hWnq7_pMYGfv"
      },
      "source": [
        "## Problem Set 1: Equations\n",
        "- The first two problems will show examples on how to write the code to solve the equations. The following four questions will be exercises for you to work on."
      ]
    },
    {
      "cell_type": "markdown",
      "metadata": {
        "id": "smHxSyImYY9x"
      },
      "source": [
        "#### Example Problem 1: \n",
        "Solve the following equation: $3x - 4 = 8$\n",
        "\n"
      ]
    },
    {
      "cell_type": "markdown",
      "metadata": {
        "id": "O_WDm9NIgDIG"
      },
      "source": [
        "(*Note*) In order to allow the function to work properly, we must first set the equation equal to 0. In this case, we will move the 8 to the left side and then end up with the following equation: \n",
        "\n"
      ]
    },
    {
      "cell_type": "markdown",
      "metadata": {
        "id": "ee6ZinIOam5s"
      },
      "source": [
        "$\\hspace{15cm}$![Prob 1 Ex Prob 1 - Equations_Inequalities_notebook.PNG](data:image/png;base64,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)"
      ]
    },
    {
      "cell_type": "markdown",
      "metadata": {
        "id": "czB6xxOkbJRp"
      },
      "source": [
        "From here, we will now input equation on the left side of the equal sign ($3*x - 12$) in the function **solve([\"EQUATION SET EQUAL TO ZERO HERE\"],x)** to find our solution."
      ]
    },
    {
      "cell_type": "code",
      "metadata": {
        "colab": {
          "base_uri": "https://localhost:8080/",
          "height": 39
        },
        "id": "YjUvD2gRdKQj",
        "outputId": "663c4575-3d1a-400b-9c79-5d8738a51e1b"
      },
      "source": [
        "#The following code will solve the equation above\n",
        "solve([3*x - 12],x)"
      ],
      "execution_count": 24,
      "outputs": [
        {
          "output_type": "execute_result",
          "data": {
            "image/png": "[encoded data removed]",
            "text/latex": "$$\\left \\{ x : 4\\right \\}$$",
            "text/plain": [
              "{x: 4}"
            ]
          },
          "metadata": {
            "tags": []
          },
          "execution_count": 24
        }
      ]
    },
    {
      "cell_type": "markdown",
      "metadata": {
        "id": "BcBXHE8RYokR"
      },
      "source": [
        "#### Example Problem 2: \n",
        "Solve the following equation: $9x - 4 + 5 = 10$"
      ]
    },
    {
      "cell_type": "markdown",
      "metadata": {
        "id": "SdlFP5LQk49d"
      },
      "source": [
        "As mentioned in the first example, we must first set the equation equal to 0. In this case, we will first sum up like terms on the left side. \\\\\n"
      ]
    },
    {
      "cell_type": "markdown",
      "metadata": {
        "id": "CR3hrR4WcB2H"
      },
      "source": [
        "$\\hspace{15cm}$![Prob 1 Ex Prob 2 - Equations_Inequalities_notebook_part 1.PNG](data:image/png;base64,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)"
      ]
    },
    {
      "cell_type": "markdown",
      "metadata": {
        "id": "X4Qxsw-gcBpT"
      },
      "source": [
        "\n",
        "Then, we will move the 10 to the left side of the equation and end up with the following equation: \\\\\n",
        "\n"
      ]
    },
    {
      "cell_type": "markdown",
      "metadata": {
        "id": "GVM35rWgeD_X"
      },
      "source": [
        "$\\hspace{15cm}$![Prob 1 Ex Prob 2 - Equations_Inequalities_notebook_part 2.PNG](data:image/png;base64,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)"
      ]
    },
    {
      "cell_type": "markdown",
      "metadata": {
        "id": "FIRToLUJeD5A"
      },
      "source": [
        "From here, we will now input this equation in the function **solve([\"EQUATION SET EQUAL TO ZERO HERE\"],x)** to find our solution."
      ]
    },
    {
      "cell_type": "code",
      "metadata": {
        "colab": {
          "base_uri": "https://localhost:8080/",
          "height": 39
        },
        "id": "5bOnHrYEmiVm",
        "outputId": "2e1409f4-69f7-4fe7-eaca-b252e234c474"
      },
      "source": [
        "solve([9*x - 9],x) "
      ],
      "execution_count": 25,
      "outputs": [
        {
          "output_type": "execute_result",
          "data": {
            "image/png": "[encoded data removed]",
            "text/latex": "$$\\left \\{ x : 1\\right \\}$$",
            "text/plain": [
              "{x: 1}"
            ]
          },
          "metadata": {
            "tags": []
          },
          "execution_count": 25
        }
      ]
    },
    {
      "cell_type": "markdown",
      "metadata": {
        "id": "jbf3zVlmYpqx"
      },
      "source": [
        "#### Exercise 1\n",
        "Solve the following expression: $$8x - 36 = 4$$"
      ]
    },
    {
      "cell_type": "code",
      "metadata": {
        "colab": {
          "base_uri": "https://localhost:8080/"
        },
        "id": "5AVDcvVj2dA9",
        "outputId": "c6af817e-652c-40e7-959a-231886a8aadf"
      },
      "source": [
        "##Put your code down below\n",
        "try:\n",
        "  ans = solve([\"Equation here\"], x) #Delete \"Equation here\" and insert your answer\n",
        "  answer_check({x: 5}, ans)\n",
        "except SympifyError:\n",
        "  print(\"Please delete 'Equation here'\")"
      ],
      "execution_count": 47,
      "outputs": [
        {
          "output_type": "stream",
          "text": [
            "Please delete 'Equation here'\n"
          ],
          "name": "stdout"
        }
      ]
    },
    {
      "cell_type": "markdown",
      "metadata": {
        "id": "Jv4sVQFOZCsK"
      },
      "source": [
        "#### Exercise 2 \n",
        "Solve the following expression: $$3x + 12 = 15$$"
      ]
    },
    {
      "cell_type": "code",
      "metadata": {
        "id": "Sv8wYT703ca7",
        "colab": {
          "base_uri": "https://localhost:8080/"
        },
        "outputId": "8f8d15c8-7461-48cd-d107-5a525f676eeb"
      },
      "source": [
        "##Put your code down below\n",
        "try:\n",
        "  ans = solve([\"Equation Here\"], x) #Delete \"Equation here\" and insert your answer\n",
        "  answer_check({x: 1}, ans)\n",
        "except SympifyError:\n",
        "  print(\"Please delete 'Equation here'\")\n"
      ],
      "execution_count": 31,
      "outputs": [
        {
          "output_type": "stream",
          "text": [
            "Please delete 'Equation here'\n"
          ],
          "name": "stdout"
        }
      ]
    },
    {
      "cell_type": "markdown",
      "metadata": {
        "id": "pVAwT9BtquSz"
      },
      "source": [
        "#### Exercise 3\n",
        "Solve the following expression: $$10x - 19 = 11$$"
      ]
    },
    {
      "cell_type": "code",
      "metadata": {
        "id": "lJ3KyP6f3ea_",
        "colab": {
          "base_uri": "https://localhost:8080/"
        },
        "outputId": "02658c17-0ef8-403e-adae-0a9bb8b8b2d7"
      },
      "source": [
        "##Put your code down below\n",
        "try:\n",
        "  ans = solve([\"Equation Here\"], x) #Delete \"Equation here\" and insert your answer\n",
        "  answer_check({x: 3}, ans)\n",
        "except SympifyError:\n",
        "  print(\"Please delete 'Equation here'\")\n"
      ],
      "execution_count": 33,
      "outputs": [
        {
          "output_type": "stream",
          "text": [
            "Please delete 'Equation here'\n"
          ],
          "name": "stdout"
        }
      ]
    },
    {
      "cell_type": "markdown",
      "metadata": {
        "id": "WYG6U4R4q5Gl"
      },
      "source": [
        "#### Exercise 4 \n",
        "Solve the following expression: $$3x + 8 - x + 4 = 20 - 2x$$"
      ]
    },
    {
      "cell_type": "code",
      "metadata": {
        "id": "c8DZrRpq3ffj",
        "colab": {
          "base_uri": "https://localhost:8080/"
        },
        "outputId": "793f2e05-3952-4611-d2d9-eee9064b4946"
      },
      "source": [
        "##Put your code down below\n",
        "try:\n",
        "  ans = solve([\"Equation Here\"], x) #Delete \"Equation here\" and insert your answer\n",
        "  answer_check({x: 2}, ans)\n",
        "except SympifyError:\n",
        "  print(\"Please delete 'Equation here'\")\n"
      ],
      "execution_count": 35,
      "outputs": [
        {
          "output_type": "stream",
          "text": [
            "Please delete 'Equation here'\n"
          ],
          "name": "stdout"
        }
      ]
    },
    {
      "cell_type": "markdown",
      "metadata": {
        "id": "c_D_zjf3YIpb"
      },
      "source": [
        "## Problem Set 2: Inequalities"
      ]
    },
    {
      "cell_type": "markdown",
      "metadata": {
        "id": "yDAEB8JpkPyI"
      },
      "source": [
        "Note: Before we begin, we must import all the functions within the  SymPy library into our Python Notebook so that we can use them down below."
      ]
    },
    {
      "cell_type": "code",
      "metadata": {
        "id": "0fUHcyHVsWtP"
      },
      "source": [
        "####Run this piece code first before continuing \n",
        "from sympy import Symbol\n",
        "from sympy.solvers.inequalities import reduce_rational_inequalities\n",
        "x = Symbol('x', real=True)"
      ],
      "execution_count": 46,
      "outputs": []
    },
    {
      "cell_type": "markdown",
      "metadata": {
        "id": "BmFY6c-UYWKT"
      },
      "source": [
        "- The first two problems will show examples on how to write the code to solve the inequalities. The following four questions will be exercises for you to work on."
      ]
    },
    {
      "cell_type": "markdown",
      "metadata": {
        "id": "O9yhYIFnaK1M"
      },
      "source": [
        "#### Example Problem 1:\n",
        "Solve the following equation: $2x + 4x - 9 > 3 $"
      ]
    },
    {
      "cell_type": "markdown",
      "metadata": {
        "id": "hTZSdQJ_9Q4s"
      },
      "source": [
        "(*Note*) In order to allow the function to work properly, we must first combine like terms on the left side, in this case the 2x and 4x. Afterwards, we need to have variables on the left side of the inequality and integers on the right side of the inequality: \\\\\n",
        "\n"
      ]
    },
    {
      "cell_type": "markdown",
      "metadata": {
        "id": "6SBeeMPtfYus"
      },
      "source": [
        "$\\hspace{15cm}$![Prob 2 Ex Prob 1 - Equations_Inequalities_notebook.PNG](data:image/png;base64,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)"
      ]
    },
    {
      "cell_type": "markdown",
      "metadata": {
        "id": "3tbefd6PfZgT"
      },
      "source": [
        "From here, we will now input this equation in the function **reduce_rational_inequalities([[6*x > 12]], x)**"
      ]
    },
    {
      "cell_type": "code",
      "metadata": {
        "colab": {
          "base_uri": "https://localhost:8080/"
        },
        "id": "Pl8O2KND9WrI",
        "outputId": "4f4bef9e-f1e5-4b8e-8606-e601401f732d"
      },
      "source": [
        "print(reduce_rational_inequalities([[6*x > 12]], x))"
      ],
      "execution_count": 9,
      "outputs": [
        {
          "output_type": "stream",
          "text": [
            "(2 < x) & (x < oo)\n"
          ],
          "name": "stdout"
        }
      ]
    },
    {
      "cell_type": "markdown",
      "metadata": {
        "id": "SlOJp4eG9tJB"
      },
      "source": [
        "The above solution is the same as the following:\n",
        "2 < x < $\\inf$"
      ]
    },
    {
      "cell_type": "markdown",
      "metadata": {
        "id": "C_Ozsi3kaK1M"
      },
      "source": [
        "#### Example Problem 2:\n",
        "Solve the following equation: $3x +7 \\leq 3 - x$"
      ]
    },
    {
      "cell_type": "markdown",
      "metadata": {
        "id": "3jtxPqiJUyag"
      },
      "source": [
        "(*Note*) In order to allow the function to work properly, we must first have variables on the left side of the inequality and integers on the right side of the inequality: \\\\\n"
      ]
    },
    {
      "cell_type": "markdown",
      "metadata": {
        "id": "JVcB2aCriRvm"
      },
      "source": [
        "$\\hspace{15cm}$![Prob 2 Ex Prob 2 - Equations_Inequalities_notebook.PNG](data:image/png;base64,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)"
      ]
    },
    {
      "cell_type": "markdown",
      "metadata": {
        "id": "j5N6laeDiRli"
      },
      "source": [
        "\n",
        "From here, we will now input this equation in the function **reduce_rational_inequalities([[4*x <= -4]], x)**"
      ]
    },
    {
      "cell_type": "code",
      "metadata": {
        "colab": {
          "base_uri": "https://localhost:8080/"
        },
        "id": "WzfZnHPxVq0o",
        "outputId": "2a58c549-0d9e-4e2f-e64f-83484b3d6474"
      },
      "source": [
        "print(reduce_rational_inequalities([[4*x <= -4]], x))"
      ],
      "execution_count": 10,
      "outputs": [
        {
          "output_type": "stream",
          "text": [
            "(x <= -1) & (-oo < x)\n"
          ],
          "name": "stdout"
        }
      ]
    },
    {
      "cell_type": "markdown",
      "metadata": {
        "id": "oUvE1anDVtW2"
      },
      "source": [
        "The above solution is the same as the following:\n",
        "-$\\inf$ < x $\\leq$ -1"
      ]
    },
    {
      "cell_type": "markdown",
      "metadata": {
        "id": "rBb3DnI3ks7D"
      },
      "source": [
        "#### Exercise 1 \n",
        "Solve the following Inequality: $$3x - 8 > 7$$"
      ]
    },
    {
      "cell_type": "code",
      "metadata": {
        "colab": {
          "base_uri": "https://localhost:8080/"
        },
        "id": "fGuTk5dup1bi",
        "outputId": "bd44dee6-1148-455d-8ece-6de827c12477"
      },
      "source": [
        "##Put your code down below\n",
        "try:\n",
        "  ans = str(reduce_rational_inequalities([[\"Inequality here\"]], x)) #Delete \"Inequality here\" and insert your answer\n",
        "  answer_check(\"(5 < x) & (x < oo)\", ans)\n",
        "except (SympifyError, AttributeError):\n",
        "  print(\"Please delete 'Inequality here'\")"
      ],
      "execution_count": 38,
      "outputs": [
        {
          "output_type": "stream",
          "text": [
            "Please delete 'Inequality here'\n"
          ],
          "name": "stdout"
        }
      ]
    },
    {
      "cell_type": "markdown",
      "metadata": {
        "id": "sIAt-1_9kxgp"
      },
      "source": [
        "#### Exercise 2 \n",
        "Solve the following Inequality: $$8x - 7 + 3 \\geq 12$$"
      ]
    },
    {
      "cell_type": "code",
      "metadata": {
        "colab": {
          "base_uri": "https://localhost:8080/"
        },
        "id": "V8F2xI8pp2Fu",
        "outputId": "dfaf62a5-ba83-425b-c7fe-0024e01fbfa9"
      },
      "source": [
        "##Put your code down below\n",
        "try:\n",
        "  ans = str(reduce_rational_inequalities([[\"Inequality here\"]], x)) #Delete \"Inequality here\" and insert your answer\n",
        "  answer_check(\"(2 <= x) & (x < oo)\", ans)\n",
        "except (SympifyError, AttributeError):\n",
        "  print(\"Please delete 'Inequality here'\")"
      ],
      "execution_count": 40,
      "outputs": [
        {
          "output_type": "stream",
          "text": [
            "Please delete 'Inequality here'\n"
          ],
          "name": "stdout"
        }
      ]
    },
    {
      "cell_type": "markdown",
      "metadata": {
        "id": "XthvRFXukxop"
      },
      "source": [
        "#### Exercise 3\n",
        "Solve the following Inequality: $$9x - 15\\geq 4x + 20$$"
      ]
    },
    {
      "cell_type": "code",
      "metadata": {
        "colab": {
          "base_uri": "https://localhost:8080/"
        },
        "id": "fG70qAVap2-f",
        "outputId": "59dd10a8-b494-48a0-adc7-9b2725ae9744"
      },
      "source": [
        "##Put your code down below\n",
        "try:\n",
        "  ans = str(reduce_rational_inequalities([[\"Inequality here\"]], x)) #Delete \"Inequality here\" and insert your answer\n",
        "  answer_check(\"(7 <= x) & (x < oo)\", ans)\n",
        "except (SympifyError, AttributeError):\n",
        "  print(\"Please delete 'Inequality here'\")"
      ],
      "execution_count": 43,
      "outputs": [
        {
          "output_type": "stream",
          "text": [
            "Please delete 'Inequality here'\n"
          ],
          "name": "stdout"
        }
      ]
    },
    {
      "cell_type": "markdown",
      "metadata": {
        "id": "ZYKXIHvIkxvo"
      },
      "source": [
        "#### Exercise 4 \n",
        "Solve the following Inequality: $$8x - 13 < x + 8$$"
      ]
    },
    {
      "cell_type": "code",
      "metadata": {
        "colab": {
          "base_uri": "https://localhost:8080/"
        },
        "id": "piRpPY2xp3mN",
        "outputId": "f18d5022-99ae-4e22-8200-71a4b344f1a5"
      },
      "source": [
        "##Put your code down below\n",
        "try:\n",
        "  ans = str(reduce_rational_inequalities([[\"Inequality here\"]], x)) #Delete \"Inequality here\" and insert your answer\n",
        "  answer_check(\"(-oo < x) & (x < 3)\", ans)\n",
        "except (SympifyError, AttributeError):\n",
        "  print(\"Please delete 'Inequality here'\")"
      ],
      "execution_count": 45,
      "outputs": [
        {
          "output_type": "stream",
          "text": [
            "Please delete 'Inequality here'\n"
          ],
          "name": "stdout"
        }
      ]
    },
    {
      "cell_type": "markdown",
      "metadata": {
        "id": "buRoEOMU7iOE"
      },
      "source": [
        "SymPy Citation License: \\\\\n",
        "Meurer A, Smith CP, Paprocki M, Čertík O, Kirpichev SB, Rocklin M, Kumar A, Ivanov S, Moore JK, Singh S, Rathnayake T, Vig S, Granger BE, Muller RP, Bonazzi F, Gupta H, Vats S, Johansson F, Pedregosa F, Curry MJ, Terrel AR, Roučka Š, Saboo A, Fernando I, Kulal S, Cimrman R, Scopatz A. (2017) SymPy: symbolic computing in Python. PeerJ Computer Science 3:e103 https://doi.org/10.7717/peerj-cs.103"
      ]
    }
  ]
}