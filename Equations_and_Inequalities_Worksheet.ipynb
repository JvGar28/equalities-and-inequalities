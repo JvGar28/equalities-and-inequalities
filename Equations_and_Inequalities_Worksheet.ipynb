{
  "nbformat": 4,
  "nbformat_minor": 0,
  "metadata": {
    "colab": {
      "name": "Equations and Inequalities Worksheet.ipynb",
      "provenance": [],
      "collapsed_sections": []
    },
    "kernelspec": {
      "name": "python3",
      "display_name": "Python 3"
    }
  },
  "cells": [
    {
      "cell_type": "markdown",
      "metadata": {
        "id": "GjGwMPCqY3NB"
      },
      "source": [
        "# Equations and Inequalties"
      ]
    },
    {
      "cell_type": "markdown",
      "metadata": {
        "id": "ZWrNFbOsaxtZ"
      },
      "source": [
        "## Summary:\n",
        "This notebook will be used to help understand Equations and Inequalities concepts through a coding perspective. \n",
        "\n",
        "- Learning how to use the [SymPy](https://docs.sympy.org/latest/index.html) library in Python to solve for equations through Python. \\\\"
      ]
    },
    {
      "cell_type": "markdown",
      "metadata": {
        "id": "FNcTnXMpdO7T"
      },
      "source": [
        "Note: Before we begin, we must import all the functions within the  SymPy library into our Python Notebook so that we can use them down below. Once we have imported the functions, we will create the variables that are used for the notebook as well as running the **init_printing()** function to allow us to have an interactive calculator-type notebook."
      ]
    },
    {
      "cell_type": "code",
      "metadata": {
        "id": "-ul3bobgdOd_"
      },
      "source": [
        "from sympy import *\n",
        "x, y, z = symbols('x y z')\n",
        "init_printing()\n",
        "\n",
        "\n",
        "def answer_check(right_ans, ans = {}):\n",
        "  \"\"\"\n",
        "  - Description: This function is used to check the answers on each of the problem  \n",
        "                 set questions down below.\n",
        "  - param right_ans: The correct answer either in data types dictionary or string\n",
        "  - param ans: The answer that you input into the functions\n",
        "  - Returns: One of Two Options- A string stating that the answer is correct\n",
        "             or a string stating that the answer is incorrect\n",
        "  \"\"\"\n",
        "  assert (type(right_ans) == dict) or (type(right_ans) == str), \"Please insert a dict or str\"\n",
        "\n",
        "  if ans == right_ans:\n",
        "    print(\"WooHoo!! You got the correct answer! :)\")\n",
        "  else:\n",
        "    print(\"Ooops, try that again, could be a small adding error.\")"
      ],
      "execution_count": 49,
      "outputs": []
    },
    {
      "cell_type": "markdown",
      "metadata": {
        "id": "hWnq7_pMYGfv"
      },
      "source": [
        "## Problem Set 1: Equations\n",
        "- The first two problems will show examples on how to write the code to solve the equations. The following four questions will be exercises for you to work on."
      ]
    },
    {
      "cell_type": "markdown",
      "metadata": {
        "id": "smHxSyImYY9x"
      },
      "source": [
        "#### Example Problem 1: \n",
        "Solve the following equation: $3x - 4 = 8$\n",
        "\n"
      ]
    },
    {
      "cell_type": "markdown",
      "metadata": {
        "id": "O_WDm9NIgDIG"
      },
      "source": [
        "(*Note*) In order to allow the function to work properly, we must first set the equation equal to 0. In this case, we will move the 8 to the left side and then end up with the following equation: \n",
        "\n"
      ]
    },
    {
      "cell_type": "markdown",
      "metadata": {
        "id": "ee6ZinIOam5s"
      },
      "source": [
        "$\\hspace{15cm}$![Prob 1 Ex Prob 1 - Equations_Inequalities_notebook.PNG](data:image/png;base64,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)"
      ]
    },
    {
      "cell_type": "markdown",
      "metadata": {
        "id": "czB6xxOkbJRp"
      },
      "source": [
        "From here, we will now input equation on the left side of the equal sign ($3*x - 12$) in the function **solve([\"EQUATION SET EQUAL TO ZERO HERE\"],x)** to find our solution."
      ]
    },
    {
      "cell_type": "code",
      "metadata": {
        "colab": {
          "base_uri": "https://localhost:8080/",
          "height": 39
        },
        "id": "YjUvD2gRdKQj",
        "outputId": "22d6f72f-9e11-4482-8ce3-565624587843"
      },
      "source": [
        "#The following code will solve the equation above\n",
        "solve([3*x - 12],x)"
      ],
      "execution_count": 18,
      "outputs": [
        {
          "output_type": "execute_result",
          "data": {
            "image/png": "[encoded data removed]",
            "text/latex": "$$\\left \\{ x : 4\\right \\}$$",
            "text/plain": [
              "{x: 4}"
            ]
          },
          "metadata": {
            "tags": []
          },
          "execution_count": 18
        }
      ]
    },
    {
      "cell_type": "markdown",
      "metadata": {
        "id": "BcBXHE8RYokR"
      },
      "source": [
        "#### Example Problem 2: \n",
        "Solve the following equation: $9x - 4 + 5 = 10$"
      ]
    },
    {
      "cell_type": "markdown",
      "metadata": {
        "id": "SdlFP5LQk49d"
      },
      "source": [
        "As mentioned in the first example, we must first set the equation equal to 0. In this case, we will first sum up like terms on the left side. \\\\\n"
      ]
    },
    {
      "cell_type": "markdown",
      "metadata": {
        "id": "CR3hrR4WcB2H"
      },
      "source": [
        "$\\hspace{15cm}$![Prob 1 Ex Prob 2 - Equations_Inequalities_notebook_part 1.PNG](data:image/png;base64,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)"
      ]
    },
    {
      "cell_type": "markdown",
      "metadata": {
        "id": "X4Qxsw-gcBpT"
      },
      "source": [
        "\n",
        "Then, we will move the 10 to the left side of the equation and end up with the following equation: \\\\\n",
        "\n"
      ]
    },
    {
      "cell_type": "markdown",
      "metadata": {
        "id": "GVM35rWgeD_X"
      },
      "source": [
        "$\\hspace{15cm}$![Prob 1 Ex Prob 2 - Equations_Inequalities_notebook_part 2.PNG](data:image/png;base64,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)"
      ]
    },
    {
      "cell_type": "markdown",
      "metadata": {
        "id": "FIRToLUJeD5A"
      },
      "source": [
        "From here, we will now input this equation in the function **solve([\"EQUATION SET EQUAL TO ZERO HERE\"],x)** to find our solution."
      ]
    },
    {
      "cell_type": "code",
      "metadata": {
        "colab": {
          "base_uri": "https://localhost:8080/",
          "height": 39
        },
        "id": "5bOnHrYEmiVm",
        "outputId": "163d2a5d-2f25-45ca-f2da-09dc12bc21a4"
      },
      "source": [
        "solve([9*x - 9],x) "
      ],
      "execution_count": null,
      "outputs": [
        {
          "output_type": "execute_result",
          "data": {
            "image/png": "[encoded data removed]",
            "text/latex": "$$\\left \\{ x : 1\\right \\}$$",
            "text/plain": [
              "{x: 1}"
            ]
          },
          "metadata": {
            "tags": []
          },
          "execution_count": 4
        }
      ]
    },
    {
      "cell_type": "markdown",
      "metadata": {
        "id": "jbf3zVlmYpqx"
      },
      "source": [
        "#### Exercise 1\n",
        "Solve the following expression: $$5x - 20 = 15$$"
      ]
    },
    {
      "cell_type": "code",
      "metadata": {
        "colab": {
          "base_uri": "https://localhost:8080/"
        },
        "id": "5AVDcvVj2dA9",
        "outputId": "aeb201ed-68df-4c6c-9f9f-e5f09aeee7f3"
      },
      "source": [
        "##Put your code down below\n",
        "#ans = solve([\"Equation here\"], x) \n",
        "try:\n",
        "  ans = solve([\"Equation here\"], x) #Delete \"Equation here\" and insert your answer\n",
        "  answer_check({x: 7}, ans)\n",
        "except SympifyError:\n",
        "  print(\"Please delete 'Equation here'\")"
      ],
      "execution_count": 42,
      "outputs": [
        {
          "output_type": "stream",
          "text": [
            "Please delete 'Equation here'\n"
          ],
          "name": "stdout"
        }
      ]
    },
    {
      "cell_type": "markdown",
      "metadata": {
        "id": "Jv4sVQFOZCsK"
      },
      "source": [
        "#### Exercise 2\n",
        "Solve the following expression: $$4x - 12 = 8$$"
      ]
    },
    {
      "cell_type": "code",
      "metadata": {
        "id": "Sv8wYT703ca7",
        "colab": {
          "base_uri": "https://localhost:8080/"
        },
        "outputId": "b5e451c5-853d-411a-d054-73804504f7c3"
      },
      "source": [
        "##Put your code down below\n",
        "try:\n",
        "  ans = solve([\"Equation Here\"], x) #Delete \"Equation here\" and insert your answer\n",
        "  answer_check({x: 5}, ans)\n",
        "except SympifyError:\n",
        "  print(\"Please delete 'Equation here'\")\n"
      ],
      "execution_count": 24,
      "outputs": [
        {
          "output_type": "stream",
          "text": [
            "Please delete 'Equation here'\n"
          ],
          "name": "stdout"
        }
      ]
    },
    {
      "cell_type": "markdown",
      "metadata": {
        "id": "pVAwT9BtquSz"
      },
      "source": [
        "#### Exercise 3\n",
        "Solve the following expression: $$11x - 21 = 12$$"
      ]
    },
    {
      "cell_type": "code",
      "metadata": {
        "id": "lJ3KyP6f3ea_",
        "colab": {
          "base_uri": "https://localhost:8080/"
        },
        "outputId": "15923c76-7767-4b00-89d5-65096433c174"
      },
      "source": [
        "##Put your code down below\n",
        "try:\n",
        "  ans = solve([\"Equation Here\"], x) #Delete \"Equation here\" and insert your answer\n",
        "  answer_check({x: 3}, ans)\n",
        "except SympifyError:\n",
        "  print(\"Please delete 'Equation here'\")\n"
      ],
      "execution_count": 25,
      "outputs": [
        {
          "output_type": "stream",
          "text": [
            "Please delete 'Equation here'\n"
          ],
          "name": "stdout"
        }
      ]
    },
    {
      "cell_type": "markdown",
      "metadata": {
        "id": "WYG6U4R4q5Gl"
      },
      "source": [
        "#### Exercise 4 \n",
        "Solve the following expression: $$3x + 8 - x + 4 = 14$$"
      ]
    },
    {
      "cell_type": "code",
      "metadata": {
        "id": "c8DZrRpq3ffj",
        "colab": {
          "base_uri": "https://localhost:8080/"
        },
        "outputId": "05e9c0fd-5c70-46ca-b2c5-2e25bebe3344"
      },
      "source": [
        "##Put your code down below\n",
        "try:\n",
        "  ans = solve([\"Equation Here\"], x) #Delete \"Equation here\" and insert your answer\n",
        "  answer_check({x: 1}, ans)\n",
        "except SympifyError:\n",
        "  print(\"Please delete 'Equation here'\")\n"
      ],
      "execution_count": 26,
      "outputs": [
        {
          "output_type": "stream",
          "text": [
            "Please delete 'Equation here'\n"
          ],
          "name": "stdout"
        }
      ]
    },
    {
      "cell_type": "markdown",
      "metadata": {
        "id": "c_D_zjf3YIpb"
      },
      "source": [
        "## Problem Set 2: Inequalities"
      ]
    },
    {
      "cell_type": "markdown",
      "metadata": {
        "id": "yDAEB8JpkPyI"
      },
      "source": [
        "Note: Before we begin, we must import all the functions within the  SymPy library into our Python Notebook so that we can use them down below."
      ]
    },
    {
      "cell_type": "code",
      "metadata": {
        "id": "0fUHcyHVsWtP"
      },
      "source": [
        "from sympy import Symbol\n",
        "from sympy.solvers.inequalities import reduce_rational_inequalities\n",
        "x = Symbol('x', real=True)"
      ],
      "execution_count": 62,
      "outputs": []
    },
    {
      "cell_type": "markdown",
      "metadata": {
        "id": "BmFY6c-UYWKT"
      },
      "source": [
        "- The first two problems will show examples on how to write the code to solve the inequalities. The following four questions will be exercises for you to work on."
      ]
    },
    {
      "cell_type": "markdown",
      "metadata": {
        "id": "O9yhYIFnaK1M"
      },
      "source": [
        "#### Example Problem 1:\n",
        "Solve the following equation: $2x + 4x - 9 > 3 $"
      ]
    },
    {
      "cell_type": "markdown",
      "metadata": {
        "id": "hTZSdQJ_9Q4s"
      },
      "source": [
        "(*Note*) In order to allow the function to work properly, we must first combine like terms on the left side, in this case the 2x and 4x. Afterwards, we need to have variables on the left side of the inequality and integers on the right side of the inequality: \\\\\n",
        "\n"
      ]
    },
    {
      "cell_type": "markdown",
      "metadata": {
        "id": "6SBeeMPtfYus"
      },
      "source": [
        "$\\hspace{15cm}$![Prob 2 Ex Prob 1 - Equations_Inequalities_notebook.PNG](data:image/png;base64,iVBORw0KGgoAAAANSUhEUgAAAMcAAACLCAYAAADVn43RAAAAAXNSR0IArs4c6QAAAARnQU1BAACxjwv8YQUAAAAJcEhZcwAAFiUAABYlAUlSJPAAABFaSURBVHhe7Z3ZrxRFG8b5B7jxgoQrExMvDDFeGKORCzQYNcHIEgSNyCpuAVkUcI3griASxQ0w7rIYUAhLUFTEHXcganBBXMAtyiK4W19+dbrm69Ona6a36dMNzy/pnJmeOTM11fXU+1Z119M9jBAiFolDCA8ShxAeJA4hPEgcQniQOITwIHEI4UHiEMKDxCGEB4lDCA8ShxAeJA4hPEgcQniQOITwIHEI4UHiEMKDxCGEB4lDCA8ShxAeChHH33//bbZv327++eefYM/hyV9//WU+/vhjWx+i/uQWBw1h7ty5ZuPGjcGewxvqgfqQQOpPLnH8999/5qmnnjJPPPGEfez4448/zLp168yECRPMiBEjzB133GF27twZvFptvv/+ezNmzBjz2WefBXvSQT0sWrTI1ku4Tsrixx9/NHfffbe55JJLzMSJE82HH37YLeWgDbzwwgtm+vTp5sILLzQ33HCDjardUZas5BLHp59+ahvSL7/8Euz5fyR58cUXbUX8+++/VjxHH3105aMLZb/99tvNcccdZ39bVn744Qczfvx4s2PHjmBPOdD4BgwYYLZs2WKf//rrr2bkyJGlC5V6vP/++827774b7DG2PRx11FFm1apVwZ7qk1kcVPZdd91le8kwb7/9tlmwYEGng7Fv3z5zwQUXmDPPPNP89NNPwd5ioTFPmzbNHDx4MNiTntdee82ceuqpucUB1Av1U1aj3Lt3rxXC1Vdf3Wnst3LlSnPaaaeZXbt2BXvi+f333wsrK1H3+OOPt1Hjzz//tPuIaJSDKHLgwAG7r+pkFgeVPWjQIPPRRx8Fezp48sknTc+ePc3q1auDPR3ceOONNnpE318UecVB9Js9e7Z54IEHChEHv5P6adUoi4Jeunfv3uaxxx4L9nTg9j///PPBnq4gjDlz5lhxvfHGGzba5+G3334zt9xyi3n00UcbQv3uu+/MKaecYi677DL7fXUgszjoZc855xyzZ8+eYE8H77zzjjn33HPtXwc9EjlnVBwcBJ6//PLL5ttvv7Xv27p1q33+9ddfp+rJ8oiD73nooYdsWRC3TxyUkbLxPsrO+ITn5PXRAThiO/vss82bb74Z7GkvHI8ePXrY8ofhd/B7br311mCPn59//tncc889ZujQoXbMyLihKDZs2GB69eplnnvuuWBP9cksDnqoKVOmNMJmM2gogwcPtmJy4xN6F/L7Tz75xDY6etmrrrrKNralS5eak046KdWgOI84aOxuUiFOHOxfvny53fi911xzjZ1suO+++8y2bdtM3759zZIlS4J3d0A5Lr744i6NtV24CBH9Pur32GOPtZ1T0s6GY8M4hTSY3p/neeD4DhkyxI5D6jSLl1kcpElsSaC3iA7ISbs2bdpkH5ODkotefvnltrdCHAzq0xyUrOIgV7/55psboo0TBwPrBx98sJEi0DGceOKJ5ssvv7Tvmzp1qvniiy/sa2HS1FFeXAcUFQHpFBEFoaatGzfrOHDgQJt2EVnSgCg4jnQmHNvDYraKRsLAL8mBp0LINdeuXduoGE6WEWbdwXL5aJJelnSGhsCBCm+bN2+2U5cckOhrvkZBeejxwylgnDjef/9989VXX9nH7rcnaWxJxLF///4u5fVt/O5m4wE6H+qROgdmq4hwRJToQD0NfOd7771nxyQzZszINC1PdCaCddcUdxYyiYNGQeNodeDJyYcPH96Y1vVBvnzMMcfYCmwFjeTee++1KVl4Y2akf//+5qabburyGr1fXKOiETEADzeaOHGEYbaNdINI0grqp1k6w/c+88wzXcrr2+iF6UiaQZRz76WMr7/+uv09PM8D6RDnLZhxYjYyrdBcm+E4k4rWgbalVaREV155pXnllVeCPR0VFDdG4SAyP+9SmyxkSavIgekNOWhuo+c94ogjzHnnnWeuu+66LhMOCJgDnGSg3aqOyoByMhCmA8oC9bls2bLG+IM0tBVE8bhUk7ogxWN6uQ5kFgc9kS9Uk6sy68G0YJiFCxd26ZFdjxL+LNKcFStW2MdJySKOODiAzSIHkQUBuR4cQVMX0elJOgEmLJJEmCIgOjGBwWxfOFLx/YxF0nY8iGD+/Pm202J8mKZeqcPodD7HlmPM/rJm8PKSWRyonxN7nOAL484yM8/NzJPbSG24pIGTQcys9OnTx1YejZDGyIAPEBaXP+zevds+T0q7xEGjOv/8823aRhRByDQ28nngN/D7orgTn83OLxQJY5dRo0Z1isCMv3ie5soEzsuQmg4bNsxOmGSZXWI8SYcR7jj5XFKy8Ixl1cksDhoP8/huoOqgsdA7ED6jGzNSzEwR4s866yzbg9x5551m8eLFZty4cbbXmzdvnh0ApyWvOCgLgiYqUP5JkybZ8Qg5PA2FscHjjz9uB/BcMkMDePbZZ23Z4xoQ9cL5gmj9tAuiBWUhOtMBkf5R30TgZuM94HVSIGaU3HFoNvBvBfVBCkYnyYwedUCKTadSVn0UQWZxMKYYPXp05p6RtIMexDWs6PO0FBU54nAzZO6zo8/joF7c1HRZ0MiJuPT45P1J64I6X7Nmje0IWgkpDbQRykFkRRR5BNcdZBYHrF+/3kyePLnUBuCDNIYL7tLOorQD6oN6IbqI+pJLHPRMzEqEzxMIY2foONtfhU5DZCeXOIBzGeST/BWqj0OJ3OIAlsgyZciZ78MZIgXnTuo06BR+ChGHEIciEocQHiQOITxIHEJ4kDiE8CBxCOFB4hDCg8QhhAeJQwgPEocQHiSOJnD59ltvvWVmzZplV/WxgIe1ElWEy8Mffvhhu6CMBVkvvfRSt1wiTp2xNh9/ZMpx6aWX2sv363gRpsThgTUOLMRiZSBXH3PQWf3IVchVO9Bc5MgKOwwQKCflY0kqi42yro/JClcksyjMfS/rS1iNWMerlCWOGGhgWMiwks8t6XSLu3BTSWIyUBY0QnyhokuWWYqMX20rpw8uFi1KQKyjx+6zX79+Dfse6hIHFmx5MJirExJHDG69c1nmCHngCuCTTz65iwWQ29/qN5DysGSZzoAOIA98P0uHESsWSuCMFRBq1ts6dBcSRww0GNa8s9ad5bscaN+SU/J61muzFBRDAxpIVr/fLLA8GEMI0r8wlPmMM85IZNxMuoMBBpES1xjXsIvAdTRXXHGF0qpDAQbepAFY02Ag980339h9M2fO7NS78pi8vii/3yy4CBEVRxbLf4SOnVIeZ8MwiAED67Fjx1Z2IqMZEkcMNDQiB+mBy8eJHMy+hAe5OK0U6febBb6L74yKgGiGPzHRI20kINox4+TcSHicJgJSJoy5cXPBLggr2LpFDZA4YnDiCLs1AgbSztMqj98vuHQt6cb7fdB4+W7nT0VDpGEeeeSRsd5iaQj7WL366qupp4fdTXVI79rdURSNxBEDqUDcjXZo+HGigTR+v8A9PYhCSbdWdp6kLYwXuJsU3l8ffPCBjRpJbxPhg4iBp9VFF11kIydCTYurt+hdwKqOxBEDxm1uQB7GHeQ4ry5mhfL6/RaJu/VY0kgWhQgRdlZP4mmFQPEXJt0Mv5d6pN7yCrVsJI4YODdAFIiKgLQqLqK48Uhev9+sMBnAeY3w+QrK7u4hkgY+g3TR3ZODm38mxYkgfC9AcLN/Se4uVSUkjhjI2Zl65GC6xu4Gvm5Ksh1+v1mgfEwchM8jkOdzwjLNvTAQeFo39SiMT7BRDd8UlfJdf/31dvxTN38zicMDl2QwmCXF4jHTuszcuClJesmi/X6zwkAcIVNOBIJvVtJbjOVxU4+DVIxOhLsKU1fMWp1wwgn2PEqaGa8qIHE0gcZFVPB5vZI6hP19o8/LhO9FsGxpen0G7vxPkWUO1xufX6dxRhiJQwgPEocQHiQOITxIHEJ4kDiE8CBxCOFB4hDCg8QhhAeJQwgPEocQHiQOITxIHEJ4kDiE8CBxCOFB4jiEwMCgCn65eWDNB+vrsTjCUQXP3e6y9ZE4DhGq5JebFcrN6sXx48c3HFNYPHX66adbh5WykThqACYJzYwSaPx5/HLLgMVP06ZNa7rSkLX50bX7LJTCmIGltm7JcllIHDWglTjy+uWWQRJxOKfJqOE0+/HlwhusTCSOGtBKHM7gIY9fbrtJIg7K70zzwvDbe/bsadfrl4nEUQOSRo4i/HLbRdLIEScOLJGw9okz02snEkcNaCUOZxuUxS+XVAU/Wwa9STdsh9Lm/0nEgWNJ7969O4mA72FiAXE0q4N2IHFUCAafzhs3vC1YsMBu0f1hp5N2+uWmgaljyhUt6+bNm83EiROtAV30NScYfguza2FfXWdrijjinCbbicRRIXz+uSNGjLBbdP/s2bM7pSCkUe3wy00DjZ3bNkTLigti//79rSl19DU8rdz5GP4icG73QITiVnOYzBFRmH0rE4mjBrRKq3wk8cul1+aeHHhMJd0wlk5LkrTKB4Z1ODGGnRTLQOKoAUnEkdUvN4s4EF1a98Ik4iAVxDKUE5oO0kHSQqJh2u/Mi8RRA1qJoyi/3HaSRBxYqXISMGw4vX79ejN48OBOgikLiaMGJIkcefxyyyCJOBiEcyYce1LGT6tWrbJjre3btwfvKBeJowYkEQdk9cstg6RjDsTMe0nf+NudF05KHDWAk3xsdYaxw5YtW0q/PioPEocQHiQOITxIHEJ4kDiE8CBxCOFB4hDCg8QhhAeJQwgPEocQHiQOITxIHEJ4kDiE8CBxCOFB4qgJe/bssT64rMWeOnWqvaS7Dj64rO7Dcidu/TeLsDCGuPbaa82YMWPM5MmT7arEqvwuiaMGsK5hyJAhjQaGicHYsWOtlU0Vwczh6aefto2ecuMcwhqTKCzQmjNnjhUQsBKQZb2YLlRhkZbEUXFY2Tdw4ECzfPnyYI8xGzZsML169TKrV68O9uQHR8R2LKdFFHHiYGEW9qVExDBYl+JuGCemspE4Ks6iRYva7hOLMOjBR44cWXha4xMH0RB3Q9LEsG2Qe38V/H0ljgrjnDe41wbrq+ll6XF9jZd0a9OmTdbBg1SF9/McQ7VWy1OB/8f3aujQodZLyqU7efCJg+/C5G3hwoWdVgfidihxiJY4D9xJkyaZ2267zY4x2LDvjJoqIwJcEWnQ/CUKYLjw+eefm+HDh3dy9GgFQsS1BK8oDNWc+2AWfOKIg7QOCx5cGhF4dyNxVBiXemBXg++tg961X79+jRu6EE1Ii1x04HUcAhHS7t27zYwZM2z0SAtCI4Iw5uHz6e3TkkYcO3bsMH379tWAXLTGiSNqEO3c07HWpLfFgTAsHlKSIh0CSeO4wxLRCKHt3LkzeKU1ScVBdMIjFxvQJClgGUgcFcbZeeIyHs7L6cHxwI2KBmhYjFGi/5MXenJuqYYoSduSfnYScfDZRAtSvyLGOUUhcVQY0qUBAwbYxh7uTZ044tzTmdVidmvJkiXBnnzwvcuWLWuMP9L6YbUSB5GPcyKkbS6V4m+ecU5RSBwVht4ZB8CoCFxaFRcdaIThMQo9MWeoEVoaEMH8+fOtODmfkjXVaSYOhMGZftLA8BiDk51Lly4NnnUfEkfFYdaGQSrjDwcD7T59+jSmbLktMTNSCIDUJGwezXuIIklP8O3atcuOZYYNG2ZnwMKNNgvNxMEZcsYxpGvOpJoN0Zd9F6c4JI6KQ6NevHixNYVm4M09NxDCihUr7Gv06BMmTLC9PN6yjzzyiJ36peelobG/Va/P5/DZ3B1q3Lhx9jKOvCcCiTaMI7j9M+IYNGiQfe7O6jOoZ8aN16Jb3E0zuwOJoyYQFeh9mZKN5uM0bk747d+/P/Z5K4gOa9assVOp/K/oQOIQwoPEIYQHiUMIDxKHEB4kDiE8SBxCeJA4hPAgcQjhQeIQwoPEIYQHiUMIDxKHEB4kDiE8SBxCeJA4hPAgcQjhQeIQwoPEIYQHiUMIDxKHELEY8z/8Y7kakdzKvAAAAABJRU5ErkJggg==)"
      ]
    },
    {
      "cell_type": "markdown",
      "metadata": {
        "id": "3tbefd6PfZgT"
      },
      "source": [
        "From here, we will now input this equation in the function **reduce_rational_inequalities([[6*x > 12]], x)**"
      ]
    },
    {
      "cell_type": "code",
      "metadata": {
        "colab": {
          "base_uri": "https://localhost:8080/"
        },
        "id": "Pl8O2KND9WrI",
        "outputId": "0117018a-068f-404f-a937-23b6be7a3836"
      },
      "source": [
        "print(reduce_rational_inequalities([[6*x > 12]], x))"
      ],
      "execution_count": 28,
      "outputs": [
        {
          "output_type": "stream",
          "text": [
            "(2 < x) & (x < oo)\n"
          ],
          "name": "stdout"
        }
      ]
    },
    {
      "cell_type": "markdown",
      "metadata": {
        "id": "SlOJp4eG9tJB"
      },
      "source": [
        "The above solution is the same as the following:\n",
        "2 < x < $\\inf$"
      ]
    },
    {
      "cell_type": "markdown",
      "metadata": {
        "id": "C_Ozsi3kaK1M"
      },
      "source": [
        "#### Example Problem 2:\n",
        "Solve the following equation: $3x +7 < 3 - x$"
      ]
    },
    {
      "cell_type": "markdown",
      "metadata": {
        "id": "3jtxPqiJUyag"
      },
      "source": [
        "(*Note*) In order to allow the function to work properly, we must first have variables on the left side of the inequality and integers on the right side of the inequality: \\\\\n"
      ]
    },
    {
      "cell_type": "markdown",
      "metadata": {
        "id": "JVcB2aCriRvm"
      },
      "source": [
        "$\\hspace{15cm}$![Prob 2 Ex Prob 2 - Equations_Inequalities_notebook.PNG](data:image/png;base64,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)"
      ]
    },
    {
      "cell_type": "markdown",
      "metadata": {
        "id": "j5N6laeDiRli"
      },
      "source": [
        "\n",
        "From here, we will now input this equation in the function **reduce_rational_inequalities([[4*x > -4]], x)**"
      ]
    },
    {
      "cell_type": "code",
      "metadata": {
        "colab": {
          "base_uri": "https://localhost:8080/",
          "height": 35
        },
        "id": "WzfZnHPxVq0o",
        "outputId": "50cb6260-2e97-4c27-9c39-8831612eb5fd"
      },
      "source": [
        "reduce_rational_inequalities([[4*x < -4]], x)"
      ],
      "execution_count": 43,
      "outputs": [
        {
          "output_type": "execute_result",
          "data": {
            "application/vnd.google.colaboratory.intrinsic+json": {
              "type": "string"
            },
            "text/plain": [
              "'(-oo < x) & (x < -1)'"
            ]
          },
          "metadata": {
            "tags": []
          },
          "execution_count": 43
        }
      ]
    },
    {
      "cell_type": "markdown",
      "metadata": {
        "id": "oUvE1anDVtW2"
      },
      "source": [
        "The above solution is the same as the following:\n",
        "-$\\inf$ < x < -1"
      ]
    },
    {
      "cell_type": "markdown",
      "metadata": {
        "id": "rBb3DnI3ks7D"
      },
      "source": [
        "#### Exercise 1\n",
        "Solve the following Inequality: $$2x - 5 > 7$$"
      ]
    },
    {
      "cell_type": "code",
      "metadata": {
        "colab": {
          "base_uri": "https://localhost:8080/"
        },
        "id": "fGuTk5dup1bi",
        "outputId": "52234043-389d-4ae1-bc21-dac034781f6a"
      },
      "source": [
        "try:\n",
        "  ans = str(reduce_rational_inequalities([[\"Inequality here\"]], x)) #Delete \"Inequality here\" and insert your answer\n",
        "  answer_check(\"(6 < x) & (x < oo)\", ans)\n",
        "except (SympifyError, AttributeError):\n",
        "  print(\"Please delete 'Inequality here'\")"
      ],
      "execution_count": 52,
      "outputs": [
        {
          "output_type": "stream",
          "text": [
            "Please delete 'Inequality here'\n"
          ],
          "name": "stdout"
        }
      ]
    },
    {
      "cell_type": "markdown",
      "metadata": {
        "id": "sIAt-1_9kxgp"
      },
      "source": [
        "#### Exercise 2\n",
        "Solve the following Inequality: $$7x - 14 < 21$$"
      ]
    },
    {
      "cell_type": "code",
      "metadata": {
        "colab": {
          "base_uri": "https://localhost:8080/"
        },
        "id": "V8F2xI8pp2Fu",
        "outputId": "93f2fcdd-781b-448d-dfed-2cf57f4bdf50"
      },
      "source": [
        "try:\n",
        "  ans = str(reduce_rational_inequalities([[\"Inequality here\"]], x)) #Delete \"Inequality here\" and insert your answer\n",
        "  answer_check(\"(-oo < x) & (x < 5)\", ans)\n",
        "except (SympifyError, AttributeError):\n",
        "  print(\"Please delete 'Inequality here'\")"
      ],
      "execution_count": 57,
      "outputs": [
        {
          "output_type": "stream",
          "text": [
            "Please delete 'Inequality here'\n"
          ],
          "name": "stdout"
        }
      ]
    },
    {
      "cell_type": "markdown",
      "metadata": {
        "id": "XthvRFXukxop"
      },
      "source": [
        "#### Exercise 3\n",
        "Solve the following Inequality: $$3x - 4 > x + 8$$"
      ]
    },
    {
      "cell_type": "code",
      "metadata": {
        "colab": {
          "base_uri": "https://localhost:8080/"
        },
        "id": "fG70qAVap2-f",
        "outputId": "05450ec9-0e77-4c5b-dd12-9b47b9ae7479"
      },
      "source": [
        "try:\n",
        "  ans = str(reduce_rational_inequalities([[\"Inequality here\"]], x)) #Delete \"Inequality here\" and insert your answer\n",
        "  answer_check(\"(6 < x) & (x < oo)\", ans)\n",
        "except (SympifyError, AttributeError):\n",
        "  print(\"Please delete 'Inequality here'\")"
      ],
      "execution_count": 59,
      "outputs": [
        {
          "output_type": "stream",
          "text": [
            "Please delete 'Inequality here'\n"
          ],
          "name": "stdout"
        }
      ]
    },
    {
      "cell_type": "markdown",
      "metadata": {
        "id": "ZYKXIHvIkxvo"
      },
      "source": [
        "#### Exercise 4\n",
        "Solve the following Inequality: $$4x - 6 < 2x + 4$$"
      ]
    },
    {
      "cell_type": "code",
      "metadata": {
        "colab": {
          "base_uri": "https://localhost:8080/"
        },
        "id": "piRpPY2xp3mN",
        "outputId": "decfb22f-c209-4843-c8a5-ef8726617ae6"
      },
      "source": [
        "try:\n",
        "  ans = str(reduce_rational_inequalities([[\"Inequality here\"]], x)) #Delete \"Inequality here\" and insert your answer\n",
        "  answer_check(\"(-oo < x) & (x < 5)\", ans)\n",
        "except (SympifyError, AttributeError):\n",
        "  print(\"Please delete 'Inequality here'\")"
      ],
      "execution_count": 61,
      "outputs": [
        {
          "output_type": "stream",
          "text": [
            "Please delete 'Inequality here'\n"
          ],
          "name": "stdout"
        }
      ]
    },
    {
      "cell_type": "markdown",
      "metadata": {
        "id": "buRoEOMU7iOE"
      },
      "source": [
        "SymPy Citation License: \\\\\n",
        "Meurer A, Smith CP, Paprocki M, Čertík O, Kirpichev SB, Rocklin M, Kumar A, Ivanov S, Moore JK, Singh S, Rathnayake T, Vig S, Granger BE, Muller RP, Bonazzi F, Gupta H, Vats S, Johansson F, Pedregosa F, Curry MJ, Terrel AR, Roučka Š, Saboo A, Fernando I, Kulal S, Cimrman R, Scopatz A. (2017) SymPy: symbolic computing in Python. PeerJ Computer Science 3:e103 https://doi.org/10.7717/peerj-cs.103"
      ]
    }
  ]
}
